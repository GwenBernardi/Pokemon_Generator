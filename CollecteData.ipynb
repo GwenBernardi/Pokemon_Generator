{
 "cells": [
  {
   "cell_type": "code",
   "execution_count": 1,
   "id": "f52f030c",
   "metadata": {},
   "outputs": [],
   "source": [
    "from PIL import Image\n",
    "import requests\n",
    "from io import BytesIO\n",
    "import os"
   ]
  },
  {
   "cell_type": "code",
   "execution_count": null,
   "id": "363e60e6",
   "metadata": {},
   "outputs": [],
   "source": [
    "# url de l'API : https://pokeapi.co/\n",
    "path = \"https://pokeapi.co/api/v2/pokemon/\""
   ]
  },
  {
   "cell_type": "code",
   "execution_count": null,
   "id": "bd6e84c6",
   "metadata": {},
   "outputs": [],
   "source": [
    "nb_pokemon = requests.get(path).json()\n",
    "\n",
    "max_pokemon = int(nb_pokemon[\"count\"])\n",
    "\n",
    "print(max_pokemon)"
   ]
  },
  {
   "cell_type": "code",
   "execution_count": null,
   "id": "2b791498",
   "metadata": {},
   "outputs": [
    {
     "name": "stdout",
     "output_type": "stream",
     "text": [
      "0.0%\n",
      "0.08944543828264759%\n",
      "0.17889087656529518%\n",
      "0.26833631484794274%\n",
      "0.35778175313059035%\n",
      "0.4472271914132379%\n",
      "0.5366726296958855%\n",
      "0.6261180679785331%\n",
      "0.7155635062611807%\n",
      "0.8050089445438283%\n",
      "0.8944543828264758%\n",
      "0.9838998211091234%\n",
      "1.073345259391771%\n",
      "1.1627906976744187%\n",
      "1.2522361359570662%\n",
      "1.3416815742397137%\n"
     ]
    }
   ],
   "source": [
    "for i in range(max_pokemon):\n",
    "    path_pkm = path + str(i+1)\n",
    "    \n",
    "    print(str(i * 100 /max_pokemon) + \"%\")\n",
    "    \n",
    "    try:\n",
    "        response = requests.get(path_pkm).json()\n",
    "    except:\n",
    "        break\n",
    "    \n",
    "    for i in response[\"sprites\"]:\n",
    "        try:\n",
    "            response_img = requests.get(response[\"sprites\"][i])\n",
    "            img = Image.open(BytesIO(response_img.content))\n",
    "        except:\n",
    "            continue\n",
    "            \n",
    "        img.save(os.path.join(\"..\", \"data\", response[\"name\"] + \"_\" + str(i) + \".png\"))\n",
    "        \n",
    "        "
   ]
  },
  {
   "cell_type": "code",
   "execution_count": null,
   "id": "0758be9d",
   "metadata": {},
   "outputs": [],
   "source": [
    "path_without_back = \"D:\\\\Dev\\\\Pokemon_Generator\\\\data_without_back\"\n",
    "for image in os.listdir(path_without_back):\n",
    "    if \"back\" in image"
   ]
  }
 ],
 "metadata": {
  "kernelspec": {
   "display_name": "Python 3 (ipykernel)",
   "language": "python",
   "name": "python3"
  },
  "language_info": {
   "codemirror_mode": {
    "name": "ipython",
    "version": 3
   },
   "file_extension": ".py",
   "mimetype": "text/x-python",
   "name": "python",
   "nbconvert_exporter": "python",
   "pygments_lexer": "ipython3",
   "version": "3.9.7"
  }
 },
 "nbformat": 4,
 "nbformat_minor": 5
}
